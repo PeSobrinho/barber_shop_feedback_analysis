{
 "cells": [
  {
   "cell_type": "markdown",
   "metadata": {},
   "source": [
    "# Análise de feedbacks\n",
    "\n",
    "Análise dos comentários presentes nas base 'barber_shop'."
   ]
  },
  {
   "cell_type": "markdown",
   "metadata": {},
   "source": [
    "## Extração de dados"
   ]
  },
  {
   "cell_type": "code",
   "execution_count": 1,
   "metadata": {},
   "outputs": [
    {
     "data": {
      "text/plain": [
       "True"
      ]
     },
     "execution_count": 1,
     "metadata": {},
     "output_type": "execute_result"
    }
   ],
   "source": [
    "from dotenv import load_dotenv\n",
    "from sqlalchemy import create_engine\n",
    "import pandas as pd\n",
    "import os\n",
    "\n",
    "load_dotenv()"
   ]
  },
  {
   "cell_type": "code",
   "execution_count": 2,
   "metadata": {},
   "outputs": [],
   "source": [
    "user = os.getenv('user')\n",
    "password = os.getenv('password')\n",
    "host = os.getenv('host')\n",
    "port = os.getenv('port')\n",
    "database = os.getenv('database')\n",
    "ssl_cert= '../configs/ca.crt'\n",
    "\n",
    "engine = create_engine(f'postgresql+psycopg2://{user}:{password}@{host}:{port}/{database}?sslmode=verify-full&sslrootcert={ssl_cert}')"
   ]
  },
  {
   "cell_type": "code",
   "execution_count": 3,
   "metadata": {},
   "outputs": [],
   "source": [
    "with open('../sql_queries/select_feedbacks.sql', 'r') as file:\n",
    "    query = file.read()\n",
    "\n",
    "data = pd.read_sql(query, engine)"
   ]
  },
  {
   "cell_type": "code",
   "execution_count": 4,
   "metadata": {},
   "outputs": [
    {
     "data": {
      "text/html": [
       "<div>\n",
       "<style scoped>\n",
       "    .dataframe tbody tr th:only-of-type {\n",
       "        vertical-align: middle;\n",
       "    }\n",
       "\n",
       "    .dataframe tbody tr th {\n",
       "        vertical-align: top;\n",
       "    }\n",
       "\n",
       "    .dataframe thead th {\n",
       "        text-align: right;\n",
       "    }\n",
       "</style>\n",
       "<table border=\"1\" class=\"dataframe\">\n",
       "  <thead>\n",
       "    <tr style=\"text-align: right;\">\n",
       "      <th></th>\n",
       "      <th>dat_comp</th>\n",
       "      <th>av_comentario</th>\n",
       "      <th>nm_cliente</th>\n",
       "      <th>nm_funcionario</th>\n",
       "      <th>tp_servico</th>\n",
       "    </tr>\n",
       "  </thead>\n",
       "  <tbody>\n",
       "    <tr>\n",
       "      <th>0</th>\n",
       "      <td>2022-02-01</td>\n",
       "      <td>Resultado aceitável, mas esperava mais.</td>\n",
       "      <td>Catarina Rocha</td>\n",
       "      <td>Maria Oliveira</td>\n",
       "      <td>Alisamento</td>\n",
       "    </tr>\n",
       "    <tr>\n",
       "      <th>1</th>\n",
       "      <td>2022-04-01</td>\n",
       "      <td>Não gostei, o profissional foi desatento e o c...</td>\n",
       "      <td>Anthony da Mata</td>\n",
       "      <td>João Silva</td>\n",
       "      <td>Alisamento</td>\n",
       "    </tr>\n",
       "    <tr>\n",
       "      <th>2</th>\n",
       "      <td>2022-03-01</td>\n",
       "      <td>Péssimo serviço, não volto mais.</td>\n",
       "      <td>Kamilly Santos</td>\n",
       "      <td>Maria Oliveira</td>\n",
       "      <td>Alisamento</td>\n",
       "    </tr>\n",
       "    <tr>\n",
       "      <th>3</th>\n",
       "      <td>2021-12-01</td>\n",
       "      <td>O resultado não foi satisfatório, poderia ser ...</td>\n",
       "      <td>Kamilly Gonçalves</td>\n",
       "      <td>Maria Oliveira</td>\n",
       "      <td>Alisamento</td>\n",
       "    </tr>\n",
       "    <tr>\n",
       "      <th>4</th>\n",
       "      <td>2021-07-01</td>\n",
       "      <td>Foi bom, mas o atendimento precisa melhorar.</td>\n",
       "      <td>Heloísa Correia</td>\n",
       "      <td>Carlos Souza</td>\n",
       "      <td>Alisamento</td>\n",
       "    </tr>\n",
       "    <tr>\n",
       "      <th>...</th>\n",
       "      <td>...</td>\n",
       "      <td>...</td>\n",
       "      <td>...</td>\n",
       "      <td>...</td>\n",
       "      <td>...</td>\n",
       "    </tr>\n",
       "    <tr>\n",
       "      <th>2995</th>\n",
       "      <td>2023-06-01</td>\n",
       "      <td>Não gostei muito, não ficou como esperado.</td>\n",
       "      <td>Enzo Gomes</td>\n",
       "      <td>Ana Lima</td>\n",
       "      <td>Tratamento capilar</td>\n",
       "    </tr>\n",
       "    <tr>\n",
       "      <th>2996</th>\n",
       "      <td>2023-08-01</td>\n",
       "      <td>Corte bom, voltarei mais vezes.</td>\n",
       "      <td>Lucca Ferreira</td>\n",
       "      <td>João Silva</td>\n",
       "      <td>Tratamento capilar</td>\n",
       "    </tr>\n",
       "    <tr>\n",
       "      <th>2997</th>\n",
       "      <td>2022-06-01</td>\n",
       "      <td>Corte horrível, totalmente diferente do que pedi.</td>\n",
       "      <td>Rafaela da Rosa</td>\n",
       "      <td>Ana Lima</td>\n",
       "      <td>Tratamento capilar</td>\n",
       "    </tr>\n",
       "    <tr>\n",
       "      <th>2998</th>\n",
       "      <td>2022-09-01</td>\n",
       "      <td>Bom serviço, mas poderia ser um pouco mais ráp...</td>\n",
       "      <td>Helena Melo</td>\n",
       "      <td>Ana Lima</td>\n",
       "      <td>Tratamento capilar</td>\n",
       "    </tr>\n",
       "    <tr>\n",
       "      <th>2999</th>\n",
       "      <td>2022-12-01</td>\n",
       "      <td>Não gostei muito, não ficou como esperado.</td>\n",
       "      <td>Ana Vitória Viana</td>\n",
       "      <td>Ana Lima</td>\n",
       "      <td>Tratamento capilar</td>\n",
       "    </tr>\n",
       "  </tbody>\n",
       "</table>\n",
       "<p>3000 rows × 5 columns</p>\n",
       "</div>"
      ],
      "text/plain": [
       "        dat_comp                                      av_comentario  \\\n",
       "0     2022-02-01            Resultado aceitável, mas esperava mais.   \n",
       "1     2022-04-01  Não gostei, o profissional foi desatento e o c...   \n",
       "2     2022-03-01                   Péssimo serviço, não volto mais.   \n",
       "3     2021-12-01  O resultado não foi satisfatório, poderia ser ...   \n",
       "4     2021-07-01       Foi bom, mas o atendimento precisa melhorar.   \n",
       "...          ...                                                ...   \n",
       "2995  2023-06-01         Não gostei muito, não ficou como esperado.   \n",
       "2996  2023-08-01                    Corte bom, voltarei mais vezes.   \n",
       "2997  2022-06-01  Corte horrível, totalmente diferente do que pedi.   \n",
       "2998  2022-09-01  Bom serviço, mas poderia ser um pouco mais ráp...   \n",
       "2999  2022-12-01         Não gostei muito, não ficou como esperado.   \n",
       "\n",
       "             nm_cliente  nm_funcionario          tp_servico  \n",
       "0        Catarina Rocha  Maria Oliveira          Alisamento  \n",
       "1       Anthony da Mata      João Silva          Alisamento  \n",
       "2        Kamilly Santos  Maria Oliveira          Alisamento  \n",
       "3     Kamilly Gonçalves  Maria Oliveira          Alisamento  \n",
       "4       Heloísa Correia    Carlos Souza          Alisamento  \n",
       "...                 ...             ...                 ...  \n",
       "2995         Enzo Gomes        Ana Lima  Tratamento capilar  \n",
       "2996     Lucca Ferreira      João Silva  Tratamento capilar  \n",
       "2997    Rafaela da Rosa        Ana Lima  Tratamento capilar  \n",
       "2998        Helena Melo        Ana Lima  Tratamento capilar  \n",
       "2999  Ana Vitória Viana        Ana Lima  Tratamento capilar  \n",
       "\n",
       "[3000 rows x 5 columns]"
      ]
     },
     "execution_count": 4,
     "metadata": {},
     "output_type": "execute_result"
    }
   ],
   "source": [
    "data"
   ]
  },
  {
   "cell_type": "markdown",
   "metadata": {},
   "source": [
    "# Pré-processamento do texto\n",
    "\n",
    "Cada comentário define um corpus"
   ]
  },
  {
   "cell_type": "markdown",
   "metadata": {},
   "source": [
    "## Tokenização\n",
    "\n",
    "Tokenizando cada comentário individualmente"
   ]
  },
  {
   "cell_type": "code",
   "execution_count": 5,
   "metadata": {},
   "outputs": [
    {
     "name": "stderr",
     "output_type": "stream",
     "text": [
      "[nltk_data] Downloading package punkt to\n",
      "[nltk_data]     C:\\Users\\pedro\\AppData\\Roaming\\nltk_data...\n",
      "[nltk_data]   Package punkt is already up-to-date!\n",
      "[nltk_data] Downloading package stopwords to\n",
      "[nltk_data]     C:\\Users\\pedro\\AppData\\Roaming\\nltk_data...\n",
      "[nltk_data]   Package stopwords is already up-to-date!\n"
     ]
    },
    {
     "data": {
      "text/plain": [
       "True"
      ]
     },
     "execution_count": 5,
     "metadata": {},
     "output_type": "execute_result"
    }
   ],
   "source": [
    "import nltk\n",
    "nltk.download('punkt')\n",
    "nltk.download('stopwords')"
   ]
  },
  {
   "cell_type": "code",
   "execution_count": 6,
   "metadata": {},
   "outputs": [],
   "source": [
    "data['tokens'] = data['av_comentario'].apply(\n",
    "    lambda comentario: nltk.word_tokenize(comentario.lower(), language= 'portuguese')\n",
    "    )"
   ]
  },
  {
   "cell_type": "markdown",
   "metadata": {},
   "source": [
    "### Remoção de stopwords"
   ]
  },
  {
   "cell_type": "code",
   "execution_count": 8,
   "metadata": {},
   "outputs": [],
   "source": [
    "from nltk.corpus import stopwords"
   ]
  },
  {
   "cell_type": "code",
   "execution_count": 10,
   "metadata": {},
   "outputs": [],
   "source": [
    "data['tokens_sem_stopwords'] = data['tokens'].apply(\n",
    "    lambda tokens: [token for token in tokens if token not in stopwords.words('portuguese')]\n",
    ")"
   ]
  },
  {
   "cell_type": "markdown",
   "metadata": {},
   "source": [
    "### Remoção de números"
   ]
  },
  {
   "cell_type": "code",
   "execution_count": 11,
   "metadata": {},
   "outputs": [],
   "source": [
    "import re"
   ]
  },
  {
   "cell_type": "code",
   "execution_count": 12,
   "metadata": {},
   "outputs": [],
   "source": [
    "data['tokens_sem_stopwords_sem_numeros'] = data['tokens_sem_stopwords'].apply(\n",
    "    lambda tokens: [re.sub('\\d+', '', token) for token in tokens]\n",
    ")"
   ]
  },
  {
   "cell_type": "markdown",
   "metadata": {},
   "source": [
    "### Remoção de pontuação"
   ]
  },
  {
   "cell_type": "code",
   "execution_count": 13,
   "metadata": {},
   "outputs": [],
   "source": [
    "import string"
   ]
  },
  {
   "cell_type": "code",
   "execution_count": 14,
   "metadata": {},
   "outputs": [],
   "source": [
    "data['tokens_sem_stopwords_sem_numeros_sem_pontuacao'] = data['tokens_sem_stopwords_sem_numeros'].apply(\n",
    "    lambda tokens: [token for token in tokens if token not in string.punctuation]\n",
    ")"
   ]
  },
  {
   "cell_type": "code",
   "execution_count": 15,
   "metadata": {},
   "outputs": [
    {
     "data": {
      "text/html": [
       "<div>\n",
       "<style scoped>\n",
       "    .dataframe tbody tr th:only-of-type {\n",
       "        vertical-align: middle;\n",
       "    }\n",
       "\n",
       "    .dataframe tbody tr th {\n",
       "        vertical-align: top;\n",
       "    }\n",
       "\n",
       "    .dataframe thead th {\n",
       "        text-align: right;\n",
       "    }\n",
       "</style>\n",
       "<table border=\"1\" class=\"dataframe\">\n",
       "  <thead>\n",
       "    <tr style=\"text-align: right;\">\n",
       "      <th></th>\n",
       "      <th>dat_comp</th>\n",
       "      <th>av_comentario</th>\n",
       "      <th>nm_cliente</th>\n",
       "      <th>nm_funcionario</th>\n",
       "      <th>tp_servico</th>\n",
       "      <th>tokens</th>\n",
       "      <th>tokens_sem_stopwords</th>\n",
       "      <th>tokens_sem_stopwords_sem_numeros</th>\n",
       "      <th>tokens_sem_stopwords_sem_numeros_sem_pontuacao</th>\n",
       "    </tr>\n",
       "  </thead>\n",
       "  <tbody>\n",
       "    <tr>\n",
       "      <th>0</th>\n",
       "      <td>2022-02-01</td>\n",
       "      <td>Resultado aceitável, mas esperava mais.</td>\n",
       "      <td>Catarina Rocha</td>\n",
       "      <td>Maria Oliveira</td>\n",
       "      <td>Alisamento</td>\n",
       "      <td>[resultado, aceitável, ,, mas, esperava, mais, .]</td>\n",
       "      <td>[resultado, aceitável, ,, esperava, .]</td>\n",
       "      <td>[resultado, aceitável, ,, esperava, .]</td>\n",
       "      <td>[resultado, aceitável, esperava]</td>\n",
       "    </tr>\n",
       "    <tr>\n",
       "      <th>1</th>\n",
       "      <td>2022-04-01</td>\n",
       "      <td>Não gostei, o profissional foi desatento e o c...</td>\n",
       "      <td>Anthony da Mata</td>\n",
       "      <td>João Silva</td>\n",
       "      <td>Alisamento</td>\n",
       "      <td>[não, gostei, ,, o, profissional, foi, desaten...</td>\n",
       "      <td>[gostei, ,, profissional, desatento, corte, fi...</td>\n",
       "      <td>[gostei, ,, profissional, desatento, corte, fi...</td>\n",
       "      <td>[gostei, profissional, desatento, corte, ficou...</td>\n",
       "    </tr>\n",
       "    <tr>\n",
       "      <th>2</th>\n",
       "      <td>2022-03-01</td>\n",
       "      <td>Péssimo serviço, não volto mais.</td>\n",
       "      <td>Kamilly Santos</td>\n",
       "      <td>Maria Oliveira</td>\n",
       "      <td>Alisamento</td>\n",
       "      <td>[péssimo, serviço, ,, não, volto, mais, .]</td>\n",
       "      <td>[péssimo, serviço, ,, volto, .]</td>\n",
       "      <td>[péssimo, serviço, ,, volto, .]</td>\n",
       "      <td>[péssimo, serviço, volto]</td>\n",
       "    </tr>\n",
       "    <tr>\n",
       "      <th>3</th>\n",
       "      <td>2021-12-01</td>\n",
       "      <td>O resultado não foi satisfatório, poderia ser ...</td>\n",
       "      <td>Kamilly Gonçalves</td>\n",
       "      <td>Maria Oliveira</td>\n",
       "      <td>Alisamento</td>\n",
       "      <td>[o, resultado, não, foi, satisfatório, ,, pode...</td>\n",
       "      <td>[resultado, satisfatório, ,, poderia, melhor, .]</td>\n",
       "      <td>[resultado, satisfatório, ,, poderia, melhor, .]</td>\n",
       "      <td>[resultado, satisfatório, poderia, melhor]</td>\n",
       "    </tr>\n",
       "    <tr>\n",
       "      <th>4</th>\n",
       "      <td>2021-07-01</td>\n",
       "      <td>Foi bom, mas o atendimento precisa melhorar.</td>\n",
       "      <td>Heloísa Correia</td>\n",
       "      <td>Carlos Souza</td>\n",
       "      <td>Alisamento</td>\n",
       "      <td>[foi, bom, ,, mas, o, atendimento, precisa, me...</td>\n",
       "      <td>[bom, ,, atendimento, precisa, melhorar, .]</td>\n",
       "      <td>[bom, ,, atendimento, precisa, melhorar, .]</td>\n",
       "      <td>[bom, atendimento, precisa, melhorar]</td>\n",
       "    </tr>\n",
       "    <tr>\n",
       "      <th>...</th>\n",
       "      <td>...</td>\n",
       "      <td>...</td>\n",
       "      <td>...</td>\n",
       "      <td>...</td>\n",
       "      <td>...</td>\n",
       "      <td>...</td>\n",
       "      <td>...</td>\n",
       "      <td>...</td>\n",
       "      <td>...</td>\n",
       "    </tr>\n",
       "    <tr>\n",
       "      <th>2995</th>\n",
       "      <td>2023-06-01</td>\n",
       "      <td>Não gostei muito, não ficou como esperado.</td>\n",
       "      <td>Enzo Gomes</td>\n",
       "      <td>Ana Lima</td>\n",
       "      <td>Tratamento capilar</td>\n",
       "      <td>[não, gostei, muito, ,, não, ficou, como, espe...</td>\n",
       "      <td>[gostei, ,, ficou, esperado, .]</td>\n",
       "      <td>[gostei, ,, ficou, esperado, .]</td>\n",
       "      <td>[gostei, ficou, esperado]</td>\n",
       "    </tr>\n",
       "    <tr>\n",
       "      <th>2996</th>\n",
       "      <td>2023-08-01</td>\n",
       "      <td>Corte bom, voltarei mais vezes.</td>\n",
       "      <td>Lucca Ferreira</td>\n",
       "      <td>João Silva</td>\n",
       "      <td>Tratamento capilar</td>\n",
       "      <td>[corte, bom, ,, voltarei, mais, vezes, .]</td>\n",
       "      <td>[corte, bom, ,, voltarei, vezes, .]</td>\n",
       "      <td>[corte, bom, ,, voltarei, vezes, .]</td>\n",
       "      <td>[corte, bom, voltarei, vezes]</td>\n",
       "    </tr>\n",
       "    <tr>\n",
       "      <th>2997</th>\n",
       "      <td>2022-06-01</td>\n",
       "      <td>Corte horrível, totalmente diferente do que pedi.</td>\n",
       "      <td>Rafaela da Rosa</td>\n",
       "      <td>Ana Lima</td>\n",
       "      <td>Tratamento capilar</td>\n",
       "      <td>[corte, horrível, ,, totalmente, diferente, do...</td>\n",
       "      <td>[corte, horrível, ,, totalmente, diferente, pe...</td>\n",
       "      <td>[corte, horrível, ,, totalmente, diferente, pe...</td>\n",
       "      <td>[corte, horrível, totalmente, diferente, pedi]</td>\n",
       "    </tr>\n",
       "    <tr>\n",
       "      <th>2998</th>\n",
       "      <td>2022-09-01</td>\n",
       "      <td>Bom serviço, mas poderia ser um pouco mais ráp...</td>\n",
       "      <td>Helena Melo</td>\n",
       "      <td>Ana Lima</td>\n",
       "      <td>Tratamento capilar</td>\n",
       "      <td>[bom, serviço, ,, mas, poderia, ser, um, pouco...</td>\n",
       "      <td>[bom, serviço, ,, poderia, pouco, rápido, .]</td>\n",
       "      <td>[bom, serviço, ,, poderia, pouco, rápido, .]</td>\n",
       "      <td>[bom, serviço, poderia, pouco, rápido]</td>\n",
       "    </tr>\n",
       "    <tr>\n",
       "      <th>2999</th>\n",
       "      <td>2022-12-01</td>\n",
       "      <td>Não gostei muito, não ficou como esperado.</td>\n",
       "      <td>Ana Vitória Viana</td>\n",
       "      <td>Ana Lima</td>\n",
       "      <td>Tratamento capilar</td>\n",
       "      <td>[não, gostei, muito, ,, não, ficou, como, espe...</td>\n",
       "      <td>[gostei, ,, ficou, esperado, .]</td>\n",
       "      <td>[gostei, ,, ficou, esperado, .]</td>\n",
       "      <td>[gostei, ficou, esperado]</td>\n",
       "    </tr>\n",
       "  </tbody>\n",
       "</table>\n",
       "<p>3000 rows × 9 columns</p>\n",
       "</div>"
      ],
      "text/plain": [
       "        dat_comp                                      av_comentario  \\\n",
       "0     2022-02-01            Resultado aceitável, mas esperava mais.   \n",
       "1     2022-04-01  Não gostei, o profissional foi desatento e o c...   \n",
       "2     2022-03-01                   Péssimo serviço, não volto mais.   \n",
       "3     2021-12-01  O resultado não foi satisfatório, poderia ser ...   \n",
       "4     2021-07-01       Foi bom, mas o atendimento precisa melhorar.   \n",
       "...          ...                                                ...   \n",
       "2995  2023-06-01         Não gostei muito, não ficou como esperado.   \n",
       "2996  2023-08-01                    Corte bom, voltarei mais vezes.   \n",
       "2997  2022-06-01  Corte horrível, totalmente diferente do que pedi.   \n",
       "2998  2022-09-01  Bom serviço, mas poderia ser um pouco mais ráp...   \n",
       "2999  2022-12-01         Não gostei muito, não ficou como esperado.   \n",
       "\n",
       "             nm_cliente  nm_funcionario          tp_servico  \\\n",
       "0        Catarina Rocha  Maria Oliveira          Alisamento   \n",
       "1       Anthony da Mata      João Silva          Alisamento   \n",
       "2        Kamilly Santos  Maria Oliveira          Alisamento   \n",
       "3     Kamilly Gonçalves  Maria Oliveira          Alisamento   \n",
       "4       Heloísa Correia    Carlos Souza          Alisamento   \n",
       "...                 ...             ...                 ...   \n",
       "2995         Enzo Gomes        Ana Lima  Tratamento capilar   \n",
       "2996     Lucca Ferreira      João Silva  Tratamento capilar   \n",
       "2997    Rafaela da Rosa        Ana Lima  Tratamento capilar   \n",
       "2998        Helena Melo        Ana Lima  Tratamento capilar   \n",
       "2999  Ana Vitória Viana        Ana Lima  Tratamento capilar   \n",
       "\n",
       "                                                 tokens  \\\n",
       "0     [resultado, aceitável, ,, mas, esperava, mais, .]   \n",
       "1     [não, gostei, ,, o, profissional, foi, desaten...   \n",
       "2            [péssimo, serviço, ,, não, volto, mais, .]   \n",
       "3     [o, resultado, não, foi, satisfatório, ,, pode...   \n",
       "4     [foi, bom, ,, mas, o, atendimento, precisa, me...   \n",
       "...                                                 ...   \n",
       "2995  [não, gostei, muito, ,, não, ficou, como, espe...   \n",
       "2996          [corte, bom, ,, voltarei, mais, vezes, .]   \n",
       "2997  [corte, horrível, ,, totalmente, diferente, do...   \n",
       "2998  [bom, serviço, ,, mas, poderia, ser, um, pouco...   \n",
       "2999  [não, gostei, muito, ,, não, ficou, como, espe...   \n",
       "\n",
       "                                   tokens_sem_stopwords  \\\n",
       "0                [resultado, aceitável, ,, esperava, .]   \n",
       "1     [gostei, ,, profissional, desatento, corte, fi...   \n",
       "2                       [péssimo, serviço, ,, volto, .]   \n",
       "3      [resultado, satisfatório, ,, poderia, melhor, .]   \n",
       "4           [bom, ,, atendimento, precisa, melhorar, .]   \n",
       "...                                                 ...   \n",
       "2995                    [gostei, ,, ficou, esperado, .]   \n",
       "2996                [corte, bom, ,, voltarei, vezes, .]   \n",
       "2997  [corte, horrível, ,, totalmente, diferente, pe...   \n",
       "2998       [bom, serviço, ,, poderia, pouco, rápido, .]   \n",
       "2999                    [gostei, ,, ficou, esperado, .]   \n",
       "\n",
       "                       tokens_sem_stopwords_sem_numeros  \\\n",
       "0                [resultado, aceitável, ,, esperava, .]   \n",
       "1     [gostei, ,, profissional, desatento, corte, fi...   \n",
       "2                       [péssimo, serviço, ,, volto, .]   \n",
       "3      [resultado, satisfatório, ,, poderia, melhor, .]   \n",
       "4           [bom, ,, atendimento, precisa, melhorar, .]   \n",
       "...                                                 ...   \n",
       "2995                    [gostei, ,, ficou, esperado, .]   \n",
       "2996                [corte, bom, ,, voltarei, vezes, .]   \n",
       "2997  [corte, horrível, ,, totalmente, diferente, pe...   \n",
       "2998       [bom, serviço, ,, poderia, pouco, rápido, .]   \n",
       "2999                    [gostei, ,, ficou, esperado, .]   \n",
       "\n",
       "         tokens_sem_stopwords_sem_numeros_sem_pontuacao  \n",
       "0                      [resultado, aceitável, esperava]  \n",
       "1     [gostei, profissional, desatento, corte, ficou...  \n",
       "2                             [péssimo, serviço, volto]  \n",
       "3            [resultado, satisfatório, poderia, melhor]  \n",
       "4                 [bom, atendimento, precisa, melhorar]  \n",
       "...                                                 ...  \n",
       "2995                          [gostei, ficou, esperado]  \n",
       "2996                      [corte, bom, voltarei, vezes]  \n",
       "2997     [corte, horrível, totalmente, diferente, pedi]  \n",
       "2998             [bom, serviço, poderia, pouco, rápido]  \n",
       "2999                          [gostei, ficou, esperado]  \n",
       "\n",
       "[3000 rows x 9 columns]"
      ]
     },
     "execution_count": 15,
     "metadata": {},
     "output_type": "execute_result"
    }
   ],
   "source": [
    "data"
   ]
  },
  {
   "cell_type": "code",
   "execution_count": null,
   "metadata": {},
   "outputs": [],
   "source": []
  }
 ],
 "metadata": {
  "kernelspec": {
   "display_name": "base",
   "language": "python",
   "name": "python3"
  },
  "language_info": {
   "codemirror_mode": {
    "name": "ipython",
    "version": 3
   },
   "file_extension": ".py",
   "mimetype": "text/x-python",
   "name": "python",
   "nbconvert_exporter": "python",
   "pygments_lexer": "ipython3",
   "version": "3.10.9"
  }
 },
 "nbformat": 4,
 "nbformat_minor": 2
}
